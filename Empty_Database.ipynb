{
 "cells": [
  {
   "cell_type": "markdown",
   "id": "b7708d84-b350-46a1-a57d-0c31dc7bf251",
   "metadata": {},
   "source": [
    "# Adafruit Fingerprint Sensor - Template Deletion Example"
   ]
  },
  {
   "cell_type": "markdown",
   "id": "554012d1-f0be-4454-8bd8-8bc917defff1",
   "metadata": {},
   "source": [
    "This code demonstrates how to interface with the Adafruit Fingerprint sensor, allowing the deletion of all fingerprint templates in the sensor's database. It uses either hardware or software serial communication depending on the board and initializes the sensor before clearing its stored data."
   ]
  },
  {
   "cell_type": "markdown",
   "id": "8b2959db-b522-4829-91a6-f46a583ddf4d",
   "metadata": {},
   "source": [
    "# Steps:\n"
   ]
  },
  {
   "cell_type": "markdown",
   "id": "624fc03e-5d88-469a-94c7-47127cf02f00",
   "metadata": {},
   "source": [
    "## 1. Library Inclusions and Conditional Setup\n",
    "- In this section, the necessary libraries are included.\n",
    "- The code checks whether the system requires SoftwareSerial (for boards like Arduino UNO) or can use hardware serial (for boards like Leonardo, M0, etc.)."
   ]
  },
  {
   "cell_type": "code",
   "execution_count": null,
   "id": "26b06964-3b9f-4464-9b05-0e6ca6b18838",
   "metadata": {},
   "outputs": [],
   "source": [
    "#include <Adafruit_Fingerprint.h>\n",
    "\n",
    "// For UNO and others without hardware serial, we must use software serial...\n",
    "#if (defined(__AVR__) || defined(ESP8266)) && !defined(__AVR_ATmega2560__)\n",
    "  // Pin #2 is IN from sensor (GREEN wire)\n",
    "  // Pin #3 is OUT from Arduino (WHITE wire)\n",
    "  SoftwareSerial mySerial(2, 3);\n",
    "\n",
    "#else\n",
    "  // For boards with hardware serial (e.g., Leonardo, M0, etc.)\n",
    "  // Pin #0 is green wire, Pin #1 is white\n",
    "  #define mySerial Serial2\n",
    "#endif\n"
   ]
  },
  {
   "cell_type": "markdown",
   "id": "88aafd8a-c440-49c0-8ce9-3049015ab177",
   "metadata": {},
   "source": [
    "## 2. Setup Function\n",
    "- The setup() function initializes the serial communication, waits for user input to proceed with deleting fingerprint templates, and sets up the fingerprint sensor."
   ]
  },
  {
   "cell_type": "code",
   "execution_count": null,
   "id": "31a08b73-1b42-41bd-82dd-540daafc06d9",
   "metadata": {},
   "outputs": [],
   "source": [
    "void setup()\n",
    "{\n",
    "  Serial.begin(9600);\n",
    "  while (!Serial);  // For Yun/Leo/Micro/Zero/...\n",
    "  delay(100);\n",
    "\n",
    "  // Prompt user to delete all fingerprint templates\n",
    "  Serial.println(\"\\n\\nDeleting all fingerprint templates!\");\n",
    "  Serial.println(\"Press 'Y' key to continue\");\n",
    "\n",
    "  // Wait for the user to press 'Y' to confirm\n",
    "  while (1) {\n",
    "    if (Serial.available() && (Serial.read() == 'Y')) {\n",
    "      break;\n",
    "    }\n",
    "  }\n",
    "\n",
    "  // Set the baud rate for the sensor's serial port\n",
    "  finger.begin(57600);\n",
    "\n",
    "  // Verify the fingerprint sensor connection\n",
    "  if (finger.verifyPassword()) {\n",
    "    Serial.println(\"Found fingerprint sensor!\");\n",
    "  } else {\n",
    "    Serial.println(\"Did not find fingerprint sensor :(\");\n",
    "    while (1);  // Loop forever if the sensor is not found\n",
    "  }\n",
    "\n",
    "  // Empty the fingerprint database\n",
    "  finger.emptyDatabase();\n",
    "\n",
    "  // Inform user that the database has been cleared\n",
    "  Serial.println(\"Now database is empty :)\");\n",
    "}\n"
   ]
  },
  {
   "cell_type": "markdown",
   "id": "10db0f03-28e9-4017-9329-e1991312d9e0",
   "metadata": {},
   "source": [
    "## 3. Loop Function\n",
    "- The loop() function is empty here as the sensor initialization and database clearing is performed in the setup() function.\n",
    "- This is where the main loop logic would go if needed."
   ]
  },
  {
   "cell_type": "code",
   "execution_count": null,
   "id": "f05eaa4c-041d-4140-a782-c1ac9f8b3518",
   "metadata": {},
   "outputs": [],
   "source": [
    "void loop() {\n",
    "  // No ongoing operations are needed in the loop for this example\n",
    "}\n"
   ]
  },
  {
   "cell_type": "markdown",
   "id": "c0d4704c-9106-4e15-a05f-858bdafaa07e",
   "metadata": {},
   "source": [
    "## 4. Adafruit Fingerprint Sensor Initialization\n",
    "- The Adafruit_Fingerprint object is created using the mySerial port.\n",
    "- This sets up the communication interface with the fingerprint sensor."
   ]
  },
  {
   "cell_type": "code",
   "execution_count": null,
   "id": "cb5f20e7-8547-4f6d-81d1-ade21b8b9a33",
   "metadata": {},
   "outputs": [],
   "source": [
    "Adafruit_Fingerprint finger = Adafruit_Fingerprint(&mySerial);"
   ]
  }
 ],
 "metadata": {
  "kernelspec": {
   "display_name": "Python 3 (ipykernel)",
   "language": "python",
   "name": "python3"
  },
  "language_info": {
   "codemirror_mode": {
    "name": "ipython",
    "version": 3
   },
   "file_extension": ".py",
   "mimetype": "text/x-python",
   "name": "python",
   "nbconvert_exporter": "python",
   "pygments_lexer": "ipython3",
   "version": "3.12.7"
  }
 },
 "nbformat": 4,
 "nbformat_minor": 5
}
