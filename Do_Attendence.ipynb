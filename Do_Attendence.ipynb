{
 "cells": [
  {
   "cell_type": "markdown",
   "id": "424645fd-7c51-40f6-8472-b052aee7ffd2",
   "metadata": {},
   "source": [
    "# Fingerprint-Based Online Attendance System Using ESP32\n",
    "This code integrates an ESP32 with an Adafruit fingerprint sensor to authenticate users and mark attendance by sending fingerprint IDs to a Google Sheets-based online attendance system via WiFi. It verifies fingerprints, retrieves matching IDs, and logs attendance through an HTTPS request."
   ]
  },
  {
   "cell_type": "markdown",
   "id": "801f457e-b692-4424-9c7f-fad1334c2060",
   "metadata": {},
   "source": [
    "# Steps:"
   ]
  },
  {
   "cell_type": "markdown",
   "id": "ca437547-894d-4719-af39-815632cee7a6",
   "metadata": {},
   "source": [
    "## 1. Including Required Libraries\n"
   ]
  },
  {
   "cell_type": "code",
   "execution_count": null,
   "id": "a374ec17-01d4-4c0b-b85d-525d8f112a9d",
   "metadata": {},
   "outputs": [],
   "source": [
    "#include <Adafruit_Fingerprint.h>\n",
    "#include <WiFi.h>\n",
    "#include <HTTPClient.h>\n",
    "#include <WiFiClient.h>\n",
    "#include <WiFiClientSecure.h>"
   ]
  },
  {
   "cell_type": "markdown",
   "id": "94bd6ed1-df81-4313-bda6-578dd4fab217",
   "metadata": {},
   "source": [
    "- Adafruit_Fingerprint.h: Library for interfacing with the fingerprint sensor.\n",
    "- WiFi.h: Enables ESP32 to connect to a WiFi network.\n",
    "- HTTPClient.h: Allows sending HTTP requests.\n",
    "- WiFiClient.h & WiFiClientSecure.h: Used for secure HTTPS communication."
   ]
  },
  {
   "cell_type": "markdown",
   "id": "ce5c1728-4ae2-4aca-b6be-3ff951e358d0",
   "metadata": {},
   "source": [
    "## 2. Configuring Serial Communication"
   ]
  },
  {
   "cell_type": "code",
   "execution_count": null,
   "id": "cdc71d2e-7b89-4d8b-9680-555dbca59557",
   "metadata": {},
   "outputs": [],
   "source": [
    "#if (defined(__AVR__) || defined(ESP8266)) && !defined(__AVR_ATmega2560__)\n",
    "SoftwareSerial mySerial(2, 3);\n",
    "#else\n",
    "#define mySerial Serial2\n",
    "#endif\n",
    "#if (defined(__AVR__) || defined(ESP8266)) && !defined(__AVR_ATmega2560__)\n",
    "SoftwareSerial mySerial(2, 3);\n",
    "#else\n",
    "#define mySerial Serial2\n",
    "#endif"
   ]
  },
  {
   "cell_type": "markdown",
   "id": "28b1e53e-b783-4bd0-91e0-f9c72e873848",
   "metadata": {},
   "source": [
    "- Uses SoftwareSerial for boards without multiple hardware serial ports.\n",
    "- Uses Serial2 for boards with multiple hardware serial ports."
   ]
  },
  {
   "cell_type": "markdown",
   "id": "cbb487bd-d421-4c1b-9c16-62085313b656",
   "metadata": {},
   "source": [
    "## 3. Initializing Fingerprint Sensor and WiFi Credentials"
   ]
  },
  {
   "cell_type": "code",
   "execution_count": null,
   "id": "271bb877-0afe-4a12-b196-2381044370ae",
   "metadata": {},
   "outputs": [],
   "source": [
    "Adafruit_Fingerprint finger = Adafruit_Fingerprint(&mySerial);\n",
    "\n",
    "const char* ssid = \"atNet\";        // WiFi SSID\n",
    "const char* password = \"12345678\"; // WiFi Password\n",
    "\n",
    "const String sheet_url = \"https://script.google.com/macros/s/AKfycbzb8K9t87pFqnAZILGvnAmnX-vt8c-EJxGMQjcdwYSBddPnNL4RuLwRGigMFXfpnQ7J/exec\";\n",
    "\n",
    "String req;\n"
   ]
  },
  {
   "cell_type": "markdown",
   "id": "643fea1d-1d26-413e-a5fe-4387495b517e",
   "metadata": {},
   "source": [
    "- Initializes the fingerprint sensor object.\n",
    "- Stores WiFi credentials for ESP32 to connect.\n",
    "- Defines the Google Apps Script URL to send attendance data."
   ]
  },
  {
   "cell_type": "markdown",
   "id": "aff20f88-a252-4210-b154-c6643d50c9ff",
   "metadata": {},
   "source": [
    "## 4. Setting up WiFi and Fingerprint Sensor"
   ]
  },
  {
   "cell_type": "code",
   "execution_count": null,
   "id": "0b7fc0a1-411d-4f6a-a3fd-56cac48896db",
   "metadata": {},
   "outputs": [],
   "source": [
    "void setup() {\n",
    "  Serial.begin(115200);\n",
    "\n",
    "  WiFi.mode(WIFI_STA);  // Set WiFi mode to Station\n",
    "  WiFi.begin(ssid, password);\n",
    "  Serial.println(\"\\nConnecting\");\n",
    "\n",
    "  while (WiFi.status() != WL_CONNECTED) {\n",
    "    Serial.print(\".\");\n",
    "    delay(100);\n",
    "  }\n",
    "\n",
    "  Serial.println(\"\\nConnected to the WiFi network\");\n",
    "  Serial.print(\"Local ESP32 IP: \");\n",
    "  Serial.println(WiFi.localIP());\n",
    "\n",
    "  while (!Serial);  \n",
    "  delay(100);\n",
    "  Serial.println(\"\\n\\nAdafruit finger detect test\");\n",
    "\n",
    "  finger.begin(57600);\n",
    "  delay(5);\n",
    "\n",
    "  if (finger.verifyPassword()) {\n",
    "    Serial.println(\"Found fingerprint sensor!\");\n",
    "  } else {\n",
    "    Serial.println(\"Did not find fingerprint sensor :(\");\n",
    "    while (1) { delay(1); }\n",
    "  }\n",
    "\n",
    "  Serial.println(F(\"Reading sensor parameters\"));\n",
    "  finger.getParameters();\n",
    "  Serial.print(F(\"Status: 0x\"));\n",
    "  Serial.println(finger.status_reg, HEX);\n",
    "  Serial.print(F(\"Sys ID: 0x\"));\n",
    "  Serial.println(finger.system_id, HEX);\n",
    "  Serial.print(F(\"Capacity: \"));\n",
    "  Serial.println(finger.capacity);\n",
    "  Serial.print(F(\"Security level: \"));\n",
    "  Serial.println(finger.security_level);\n",
    "  Serial.print(F(\"Device address: \"));\n",
    "  Serial.println(finger.device_addr, HEX);\n",
    "  Serial.print(F(\"Packet len: \"));\n",
    "  Serial.println(finger.packet_len);\n",
    "  Serial.print(F(\"Baud rate: \"));\n",
    "  Serial.println(finger.baud_rate);\n",
    "\n",
    "  finger.getTemplateCount();\n",
    "\n",
    "  if (finger.templateCount == 0) {\n",
    "    Serial.print(\"Sensor doesn't contain any fingerprint data. Please run the 'enroll' example.\");\n",
    "  } else {\n",
    "    Serial.println(\"Waiting for valid finger...\");\n",
    "    Serial.print(\"Sensor contains \");\n",
    "    Serial.print(finger.templateCount);\n",
    "    Serial.println(\" templates\");\n",
    "  }\n",
    "}\n"
   ]
  },
  {
   "cell_type": "markdown",
   "id": "855c1bc6-67ad-4462-8fb9-8c424a93917c",
   "metadata": {},
   "source": [
    "- Connects to WiFi and displays the local IP address.\n",
    "- Initializes the fingerprint sensor and reads its parameters.\n",
    "- Displays the number of stored fingerprints."
   ]
  },
  {
   "cell_type": "markdown",
   "id": "a2d4392b-2e76-4722-94b6-b0ac1c0b49f2",
   "metadata": {},
   "source": [
    "## 5. Main Loop for Fingerprint Recognition\n"
   ]
  },
  {
   "cell_type": "code",
   "execution_count": null,
   "id": "fb74ac3a-b259-4693-9fc4-70d700e4d1e9",
   "metadata": {},
   "outputs": [],
   "source": [
    "void loop() {\n",
    "  getFingerprintID();\n",
    "  delay(50);\n",
    "}\n"
   ]
  },
  {
   "cell_type": "markdown",
   "id": "8420e3f5-662f-4d52-9501-7eeab787515a",
   "metadata": {},
   "source": [
    "- Calls getFingerprintID() continuously to detect and verify fingerprints."
   ]
  },
  {
   "cell_type": "markdown",
   "id": "af6c85df-2d65-43bf-b180-602d6da164de",
   "metadata": {},
   "source": [
    "## 6. Capturing and Processing Fingerprint"
   ]
  },
  {
   "cell_type": "code",
   "execution_count": null,
   "id": "519c5a14-fe34-44d8-b16b-36144c6e94ea",
   "metadata": {},
   "outputs": [],
   "source": [
    "uint8_t getFingerprintID() {\n",
    "  uint8_t p = finger.getImage();\n",
    "  switch (p) {\n",
    "    case FINGERPRINT_OK:\n",
    "      Serial.println(\"Image taken\");\n",
    "      break;\n",
    "    case FINGERPRINT_NOFINGER:\n",
    "      Serial.println(\"No finger detected\");\n",
    "      return p;\n",
    "    case FINGERPRINT_PACKETRECIEVEERR:\n",
    "      Serial.println(\"Communication error\");\n",
    "      return p;\n",
    "    case FINGERPRINT_IMAGEFAIL:\n",
    "      Serial.println(\"Imaging error\");\n",
    "      return p;\n",
    "    default:\n",
    "      Serial.println(\"Unknown error\");\n",
    "      return p;\n",
    "  }\n",
    "\n",
    "  p = finger.image2Tz();\n",
    "  switch (p) {\n",
    "    case FINGERPRINT_OK:\n",
    "      Serial.println(\"Image converted\");\n",
    "      break;\n",
    "    case FINGERPRINT_IMAGEMESS:\n",
    "      Serial.println(\"Image too messy\");\n",
    "      return p;\n",
    "    case FINGERPRINT_PACKETRECIEVEERR:\n",
    "      Serial.println(\"Communication error\");\n",
    "      return p;\n",
    "    case FINGERPRINT_FEATUREFAIL:\n",
    "      Serial.println(\"Could not find fingerprint features\");\n",
    "      return p;\n",
    "    case FINGERPRINT_INVALIDIMAGE:\n",
    "      Serial.println(\"Could not find fingerprint features\");\n",
    "      return p;\n",
    "    default:\n",
    "      Serial.println(\"Unknown error\");\n",
    "      return p;\n",
    "  }\n",
    "\n",
    "  p = finger.fingerSearch();\n",
    "  if (p == FINGERPRINT_OK) {\n",
    "    Serial.println(\"Found a print match!\");\n",
    "  } else if (p == FINGERPRINT_PACKETRECIEVEERR) {\n",
    "    Serial.println(\"Communication error\");\n",
    "    return p;\n",
    "  } else if (p == FINGERPRINT_NOTFOUND) {\n",
    "    Serial.println(\"Did not find a match\");\n",
    "    return p;\n",
    "  } else {\n",
    "    Serial.println(\"Unknown error\");\n",
    "    return p;\n",
    "  }\n",
    "\n",
    "  uint8_t finger_id = finger.fingerID;\n",
    "  Serial.print(\"Found ID #\");\n",
    "  Serial.print(finger_id);\n",
    "  Serial.print(\" with confidence of \");\n",
    "  Serial.println(finger.confidence);\n",
    "\n",
    "  markAttendance(finger_id);\n",
    "\n",
    "  delay(5000);\n",
    "  return finger.fingerID;\n",
    "}\n"
   ]
  },
  {
   "cell_type": "markdown",
   "id": "69d9816b-8568-491f-a4f5-dafa59ea67bd",
   "metadata": {},
   "source": [
    "- Captures an image of the fingerprint.\n",
    "- Converts the image into a digital template.\n",
    "- Searches the database for a match and returns the ID.\n",
    "- If a match is found, it marks attendance by calling markAttendance()."
   ]
  },
  {
   "cell_type": "markdown",
   "id": "677ab753-cc4b-49f8-85c5-2eb497ccbddb",
   "metadata": {},
   "source": [
    "## 7. Simplified Fingerprint Matching"
   ]
  },
  {
   "cell_type": "code",
   "execution_count": null,
   "id": "9711b00d-f33a-4eee-b78c-36b435c7b203",
   "metadata": {},
   "outputs": [],
   "source": [
    "int getFingerprintIDez() {\n",
    "  uint8_t p = finger.getImage();\n",
    "  if (p != FINGERPRINT_OK) return -1;\n",
    "\n",
    "  p = finger.image2Tz();\n",
    "  if (p != FINGERPRINT_OK) return -1;\n",
    "\n",
    "  p = finger.fingerFastSearch();\n",
    "  if (p != FINGERPRINT_OK) return -1;\n",
    "\n",
    "  Serial.print(\"Found ID #\");\n",
    "  Serial.print(finger.fingerID);\n",
    "  Serial.print(\" with confidence of \");\n",
    "  Serial.println(finger.confidence);\n",
    "  return finger.fingerID;\n",
    "}\n"
   ]
  },
  {
   "cell_type": "markdown",
   "id": "412d396c-ae04-420b-b032-1b531304f3fb",
   "metadata": {},
   "source": [
    "## 8. Marking Attendance in Google Sheets"
   ]
  },
  {
   "cell_type": "code",
   "execution_count": null,
   "id": "f8488f9f-1141-42e8-9bbd-0309889c8ed6",
   "metadata": {},
   "outputs": [],
   "source": [
    "void markAttendance(uint8_t fingerPrintID) {\n",
    "  if (WiFi.status() == WL_CONNECTED) {\n",
    "    \n",
    "    WiFiClientSecure client;\n",
    "    client.setInsecure(); // Consider using client.setCACert for better security\n",
    "\n",
    "    String req = String(sheet_url) + \"?id=\" + String(fingerPrintID);\n",
    "    req.trim();\n",
    "    Serial.println(req);\n",
    "\n",
    "    HTTPClient https;\n",
    "    Serial.println(F(\"[HTTPS] begin...\"));\n",
    "\n",
    "    if (https.begin(client, req)) {\n",
    "      Serial.println(F(\"[HTTPS] GET...\"));\n",
    "      int httpCode = https.GET();\n",
    "\n",
    "      if (httpCode > 0) {\n",
    "        Serial.printf(\"[HTTPS] GET... code: %d\\n\", httpCode);\n",
    "        if (httpCode == HTTP_CODE_OK) {\n",
    "          String payload = https.getString();\n",
    "          Serial.println(\"Received payload: \" + payload);\n",
    "        }\n",
    "      } else {\n",
    "        Serial.printf(\"[HTTPS] GET... failed, error: %s\\n\", https.errorToString(httpCode).c_str());\n",
    "      }\n",
    "      https.end();\n",
    "    } else {\n",
    "      Serial.println(F(\"[HTTPS] Unable to connect\"));\n",
    "    }\n",
    "  } else {\n",
    "    Serial.println(F(\"WiFi not connected\"));\n",
    "  }\n",
    "  delay(1000);\n",
    "}\n"
   ]
  },
  {
   "cell_type": "markdown",
   "id": "02eb3aea-f7aa-4f71-9f34-6b3badaa77cd",
   "metadata": {},
   "source": [
    "- Sends fingerprint ID to a Google Apps Script.\n",
    "- Uses HTTPS request to log attendance in Google Sheets.\n",
    "- Checks for WiFi connection before sending data."
   ]
  },
  {
   "cell_type": "markdown",
   "id": "0bd60935-90ea-43de-be4b-dbe93d45ac32",
   "metadata": {},
   "source": [
    "## Summary\n",
    "- This ESP32-based system detects fingerprints, matches IDs, and logs attendance in Google Sheets.\n",
    "- Uses WiFi and HTTPS requests for real-time attendance tracking.\n",
    "- Handles fingerprint image processing, ID retrieval, and error checking."
   ]
  }
 ],
 "metadata": {
  "kernelspec": {
   "display_name": "Python 3 (ipykernel)",
   "language": "python",
   "name": "python3"
  },
  "language_info": {
   "codemirror_mode": {
    "name": "ipython",
    "version": 3
   },
   "file_extension": ".py",
   "mimetype": "text/x-python",
   "name": "python",
   "nbconvert_exporter": "python",
   "pygments_lexer": "ipython3",
   "version": "3.12.7"
  }
 },
 "nbformat": 4,
 "nbformat_minor": 5
}
