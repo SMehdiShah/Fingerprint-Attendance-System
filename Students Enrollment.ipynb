{
 "cells": [
  {
   "cell_type": "markdown",
   "id": "ff1bbfc5-4d06-4eb8-a8a4-e261a2078bcb",
   "metadata": {},
   "source": [
    "# I used Arduino IDE for this Project."
   ]
  },
  {
   "cell_type": "markdown",
   "id": "03f76249-28a8-481e-af49-c5c42242518f",
   "metadata": {},
   "source": [
    "This code enables fingerprint enrollment using an Adafruit fingerprint sensor with an ESP32 or Arduino. It captures a student's fingerprint, processes it into a template, and stores it in the sensor's memory under a unique ID (roll number). The system ensures fingerprint matching before saving, allowing for secure and reliable identification."
   ]
  },
  {
   "cell_type": "markdown",
   "id": "3a39aca8-31aa-4812-ab8b-dd92d1b6f154",
   "metadata": {},
   "source": [
    "# Steps:"
   ]
  },
  {
   "cell_type": "markdown",
   "id": "7b541148-f477-4725-9cb8-0db9628949de",
   "metadata": {},
   "source": [
    "## 1. Include Required Library\n",
    "We include the Adafruit_Fingerprint.h library to interface with the fingerprint sensor."
   ]
  },
  {
   "cell_type": "code",
   "execution_count": null,
   "id": "d692b842-d4cd-4db0-af28-58bdf6e09f4f",
   "metadata": {},
   "outputs": [],
   "source": [
    "#include <Adafruit_Fingerprint.h>"
   ]
  },
  {
   "cell_type": "markdown",
   "id": "b2366a71-5229-4aa5-b742-eb1896a6addb",
   "metadata": {},
   "source": [
    "## 2. Define Serial Communication\n",
    "The fingerprint sensor communicates with the Arduino using serial communication.\n",
    "\n",
    "- If using an Arduino Uno or ESP8266, we use SoftwareSerial on pins 2 (RX) and 3 (TX).\n",
    "- If using a board with hardware serial support (like Arduino Mega), we use Serial2."
   ]
  },
  {
   "cell_type": "code",
   "execution_count": null,
   "id": "7f23c0a1-2486-4c74-8de4-76f4e71ff194",
   "metadata": {},
   "outputs": [],
   "source": [
    "#if (defined(__AVR__) || defined(ESP8266)) && !defined(__AVR_ATmega2560__)\n",
    "SoftwareSerial mySerial(2, 3); // RX = 2, TX = 3\n",
    "#else\n",
    "#define mySerial Serial2\n",
    "#endif\n"
   ]
  },
  {
   "cell_type": "markdown",
   "id": "2cdbc9ee-6693-4b20-a026-7400dedbec95",
   "metadata": {},
   "source": [
    "## 3. Initialize Fingerprint Sensor\n",
    "We create an instance of Adafruit_Fingerprint and define an id variable to store the fingerprint ID."
   ]
  },
  {
   "cell_type": "code",
   "execution_count": null,
   "id": "cf9e1fec-31e6-41a1-9924-4c2e774780fd",
   "metadata": {},
   "outputs": [],
   "source": [
    "Adafruit_Fingerprint finger = Adafruit_Fingerprint(&mySerial);\n",
    "uint8_t id;"
   ]
  },
  {
   "cell_type": "markdown",
   "id": "69a8a0ab-888f-4ffb-b4b3-b30b469936af",
   "metadata": {},
   "source": [
    "## 4. Setup Function (Runs Once)\n",
    "- Initializes Serial communication for debugging.\n",
    "- Initializes the fingerprint sensor.\n",
    "- Displays sensor parameters.\n",
    "\n"
   ]
  },
  {
   "cell_type": "code",
   "execution_count": null,
   "id": "4212f75b-1cac-48c1-9b26-7be8474e50fc",
   "metadata": {},
   "outputs": [],
   "source": [
    "void setup()\n",
    "{\n",
    "  Serial.begin(115200);\n",
    "  while (!Serial);  // Waits for serial connection (useful for certain boards)\n",
    "  delay(100);\n",
    "  Serial.println(\"\\n\\nAdafruit Fingerprint sensor enrollment\");\n",
    "\n",
    "  // Start fingerprint sensor communication\n",
    "  finger.begin(57600);\n",
    "\n",
    "  if (finger.verifyPassword()) {\n",
    "    Serial.println(\"Found fingerprint sensor!\");\n",
    "  } else {\n",
    "    Serial.println(\"Did not find fingerprint sensor :(\");\n",
    "    while (1) { delay(1); } // Halt execution\n",
    "  }\n",
    "\n",
    "  Serial.println(F(\"Reading sensor parameters\"));\n",
    "  finger.getParameters();\n",
    "  Serial.print(F(\"Status: 0x\")); Serial.println(finger.status_reg, HEX);\n",
    "  Serial.print(F(\"Sys ID: 0x\")); Serial.println(finger.system_id, HEX);\n",
    "  Serial.print(F(\"Capacity: \")); Serial.println(finger.capacity);\n",
    "  Serial.print(F(\"Security level: \")); Serial.println(finger.security_level);\n",
    "  Serial.print(F(\"Device address: \")); Serial.println(finger.device_addr, HEX);\n",
    "  Serial.print(F(\"Packet len: \")); Serial.println(finger.packet_len);\n",
    "  Serial.print(F(\"Baud rate: \")); Serial.println(finger.baud_rate);\n",
    "}\n"
   ]
  },
  {
   "cell_type": "markdown",
   "id": "0099267b-467f-4aaa-8bfc-397f32e9fd77",
   "metadata": {},
   "source": [
    "## 5. Read a Number from Serial\n",
    "This function waits for user input and reads an integer from the serial monitor."
   ]
  },
  {
   "cell_type": "code",
   "execution_count": null,
   "id": "10cc94d7-a40b-4e2c-b43a-857fda8dd31f",
   "metadata": {},
   "outputs": [],
   "source": [
    "uint8_t readnumber(void) {\n",
    "  uint8_t num = 0;\n",
    "\n",
    "  while (num == 0) {\n",
    "    while (!Serial.available()); // Wait for user input\n",
    "    num = Serial.parseInt();\n",
    "  }\n",
    "  return num;\n",
    "}\n"
   ]
  },
  {
   "cell_type": "markdown",
   "id": "cc343f5e-b8f8-4126-8488-299f13acc5f2",
   "metadata": {},
   "source": [
    "## 6. Main Loop (Runs Continuously)\n",
    "- Asks the user to enter a student's roll number (ID) for fingerprint enrollment.\n",
    "- Calls getFingerprintEnroll() to enroll the fingerprint."
   ]
  },
  {
   "cell_type": "code",
   "execution_count": null,
   "id": "168ae795-1102-4298-bc41-dcff5ec14489",
   "metadata": {},
   "outputs": [],
   "source": [
    "void loop() {\n",
    "  Serial.println(\"Ready to enroll a fingerprint!\");\n",
    "  Serial.println(\"Please Enter the roll number of the Student (capacity: 127) you want to save his finger...\");\n",
    "  \n",
    "  id = readnumber();\n",
    "  if (id < 1 || id > 127) {\n",
    "    return; // Invalid ID, do nothing\n",
    "  }\n",
    "\n",
    "  Serial.print(\"Enrolling ID #\");\n",
    "  Serial.println(id);\n",
    "\n",
    "  while (!getFingerprintEnroll()); // Keep trying until enrollment is successful\n",
    "}\n"
   ]
  },
  {
   "cell_type": "markdown",
   "id": "53e81a91-0e41-41d9-b003-e0239ad676a1",
   "metadata": {},
   "source": [
    "## 7. Enroll Fingerprint Function\n",
    "This function guides the user through the fingerprint enrollment process.\n",
    "\n",
    "### 7.1. Wait for Fingerprint\n",
    "- Waits until a finger is placed.\n",
    "- Displays error messages if any issue occurs."
   ]
  },
  {
   "cell_type": "code",
   "execution_count": null,
   "id": "12b097d6-5d21-4558-9e66-076b17b6b79c",
   "metadata": {},
   "outputs": [],
   "source": [
    "uint8_t getFingerprintEnroll() {\n",
    "  int p = -1;\n",
    "  Serial.print(\"Waiting for valid finger to enroll as #\"); Serial.println(id);\n",
    "  \n",
    "  while (p != FINGERPRINT_OK) {\n",
    "    p = finger.getImage();\n",
    "    switch (p) {\n",
    "      case FINGERPRINT_OK:\n",
    "        Serial.println(\"Image taken\");\n",
    "        break;\n",
    "      case FINGERPRINT_NOFINGER:\n",
    "        Serial.print(\".\");\n",
    "        break;\n",
    "      case FINGERPRINT_PACKETRECIEVEERR:\n",
    "        Serial.println(\"Communication error\");\n",
    "        break;\n",
    "      case FINGERPRINT_IMAGEFAIL:\n",
    "        Serial.println(\"Imaging error\");\n",
    "        break;\n",
    "      default:\n",
    "        Serial.println(\"Unknown error\");\n",
    "        break;\n",
    "    }\n",
    "  }\n"
   ]
  },
  {
   "cell_type": "markdown",
   "id": "c4de0af4-b600-4578-ac01-c87aede3b722",
   "metadata": {},
   "source": [
    "### 7.2. Convert Image to Template\n",
    "- Converts the fingerprint image into a template.\n"
   ]
  },
  {
   "cell_type": "code",
   "execution_count": null,
   "id": "b040c4a4-3935-43a7-a343-09f2e6873c1f",
   "metadata": {},
   "outputs": [],
   "source": [
    "  p = finger.image2Tz(1);\n",
    "  switch (p) {\n",
    "    case FINGERPRINT_OK:\n",
    "      Serial.println(\"Image converted\");\n",
    "      break;\n",
    "    case FINGERPRINT_IMAGEMESS:\n",
    "      Serial.println(\"Image too messy\");\n",
    "      return p;\n",
    "    case FINGERPRINT_PACKETRECIEVEERR:\n",
    "      Serial.println(\"Communication error\");\n",
    "      return p;\n",
    "    case FINGERPRINT_FEATUREFAIL:\n",
    "    case FINGERPRINT_INVALIDIMAGE:\n",
    "      Serial.println(\"Could not find fingerprint features\");\n",
    "      return p;\n",
    "    default:\n",
    "      Serial.println(\"Unknown error\");\n",
    "      return p;\n",
    "  }\n"
   ]
  },
  {
   "cell_type": "markdown",
   "id": "575ef0ad-7e2d-48b3-98be-6720b71b66e7",
   "metadata": {},
   "source": [
    "### 7.3. Ask for Second Scan\n",
    "The user removes and places the same finger again."
   ]
  },
  {
   "cell_type": "code",
   "execution_count": null,
   "id": "d2d48a67-8c6b-48b7-af45-d1dd02f4fe6f",
   "metadata": {},
   "outputs": [],
   "source": [
    "  Serial.println(\"Remove finger\");\n",
    "  delay(2000);\n",
    "  \n",
    "  p = 0;\n",
    "  while (p != FINGERPRINT_NOFINGER) {\n",
    "    p = finger.getImage();\n",
    "  }\n",
    "\n",
    "  Serial.print(\"ID \"); Serial.println(id);\n",
    "  p = -1;\n",
    "  Serial.println(\"Place same finger again\");\n",
    "\n",
    "  while (p != FINGERPRINT_OK) {\n",
    "    p = finger.getImage();\n",
    "    switch (p) {\n",
    "      case FINGERPRINT_OK:\n",
    "        Serial.println(\"Image taken\");\n",
    "        break;\n",
    "      case FINGERPRINT_NOFINGER:\n",
    "        Serial.print(\".\");\n",
    "        break;\n",
    "      case FINGERPRINT_PACKETRECIEVEERR:\n",
    "        Serial.println(\"Communication error\");\n",
    "        break;\n",
    "      case FINGERPRINT_IMAGEFAIL:\n",
    "        Serial.println(\"Imaging error\");\n",
    "        break;\n",
    "      default:\n",
    "        Serial.println(\"Unknown error\");\n",
    "        break;\n",
    "    }\n",
    "  }\n"
   ]
  },
  {
   "cell_type": "markdown",
   "id": "3d98981a-5ab7-4749-9623-f617cafbfd21",
   "metadata": {},
   "source": [
    "### 7.4. Convert Second Image\n",
    "- Converts the second image into a template."
   ]
  },
  {
   "cell_type": "code",
   "execution_count": null,
   "id": "6be15cb5-13b2-4e5b-bc4d-3db9af03734f",
   "metadata": {},
   "outputs": [],
   "source": [
    "  p = finger.image2Tz(2);\n",
    "  switch (p) {\n",
    "    case FINGERPRINT_OK:\n",
    "      Serial.println(\"Image converted\");\n",
    "      break;\n",
    "    case FINGERPRINT_IMAGEMESS:\n",
    "      Serial.println(\"Image too messy\");\n",
    "      return p;\n",
    "    case FINGERPRINT_PACKETRECIEVEERR:\n",
    "      Serial.println(\"Communication error\");\n",
    "      return p;\n",
    "    case FINGERPRINT_FEATUREFAIL:\n",
    "    case FINGERPRINT_INVALIDIMAGE:\n",
    "      Serial.println(\"Could not find fingerprint features\");\n",
    "      return p;\n",
    "    default:\n",
    "      Serial.println(\"Unknown error\");\n",
    "      return p;\n",
    "  }\n"
   ]
  },
  {
   "cell_type": "markdown",
   "id": "9bbcf51d-1bcb-4538-a1f4-7f43ef671db1",
   "metadata": {},
   "source": [
    "### 7.5. Create and Store Fingerprint Model\n",
    "- The two templates are matched.\n",
    "- If they match, the fingerprint is stored in memory."
   ]
  },
  {
   "cell_type": "code",
   "execution_count": null,
   "id": "16609147-1262-4676-bd78-642c1a5b31e5",
   "metadata": {},
   "outputs": [],
   "source": [
    "  Serial.print(\"Creating model for #\"); Serial.println(id);\n",
    "  p = finger.createModel();\n",
    "\n",
    "  if (p == FINGERPRINT_OK) {\n",
    "    Serial.println(\"Prints matched!\");\n",
    "  } else if (p == FINGERPRINT_ENROLLMISMATCH) {\n",
    "    Serial.println(\"Fingerprints did not match\");\n",
    "    return p;\n",
    "  } else {\n",
    "    Serial.println(\"Unknown error\");\n",
    "    return p;\n",
    "  }\n",
    "\n",
    "  Serial.print(\"ID \"); Serial.println(id);\n",
    "  p = finger.storeModel(id);\n",
    "\n",
    "  if (p == FINGERPRINT_OK) {\n",
    "    Serial.println(\"Stored!\");\n",
    "  } else if (p == FINGERPRINT_BADLOCATION) {\n",
    "    Serial.println(\"Could not store in that location\");\n",
    "    return p;\n",
    "  } else if (p == FINGERPRINT_FLASHERR) {\n",
    "    Serial.println(\"Error writing to flash\");\n",
    "    return p;\n",
    "  } else {\n",
    "    Serial.println(\"Unknown error\");\n",
    "    return p;\n",
    "  }\n",
    "\n",
    "  return true;\n",
    "}\n"
   ]
  },
  {
   "cell_type": "markdown",
   "id": "3ad28b6d-076e-44e1-af5d-ba8998a02d2b",
   "metadata": {},
   "source": [
    "## Summary\n",
    "This Arduino sketch:\n",
    "- ✔ Initializes and configures the fingerprint sensor.\n",
    "- ✔ Prompts the user for an ID.\n",
    "- ✔ Guides the user through fingerprint scanning (two scans).\n",
    "- ✔ Matches the fingerprint and stores it in memory."
   ]
  }
 ],
 "metadata": {
  "kernelspec": {
   "display_name": "Python 3 (ipykernel)",
   "language": "python",
   "name": "python3"
  },
  "language_info": {
   "codemirror_mode": {
    "name": "ipython",
    "version": 3
   },
   "file_extension": ".py",
   "mimetype": "text/x-python",
   "name": "python",
   "nbconvert_exporter": "python",
   "pygments_lexer": "ipython3",
   "version": "3.12.7"
  }
 },
 "nbformat": 4,
 "nbformat_minor": 5
}
